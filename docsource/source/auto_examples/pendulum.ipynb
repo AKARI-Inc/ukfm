{
  "nbformat": 4,
  "metadata": {
    "kernelspec": {
      "display_name": "Python 3",
      "name": "python3",
      "language": "python"
    },
    "language_info": {
      "file_extension": ".py",
      "nbconvert_exporter": "python",
      "codemirror_mode": {
        "name": "ipython",
        "version": 3
      },
      "mimetype": "text/x-python",
      "version": "3.5.2",
      "name": "python",
      "pygments_lexer": "ipython3"
    }
  },
  "nbformat_minor": 0,
  "cells": [
    {
      "outputs": [],
      "metadata": {
        "collapsed": false
      },
      "cell_type": "code",
      "execution_count": null,
      "source": [
        "%matplotlib inline"
      ]
    },
    {
      "source": [
        "\n********************************************************************************\nPendulum Example\n********************************************************************************\nThe set of all points in the Euclidean space $\\mathbb{R}^{3}$, that lie on\nthe surface of the unit ball about the origin belong to the two-sphere manifold,\n\n\\begin{align}\\mathbb{S}^2 = \\left\\{ \\mathbf{x} \\in \\mathbb{R}^3 \\mid \\|\\mathbf{x}\\|_2 = 1\n    \\right\\},\\end{align}\n\nwhich is a two-dimensional manifold. Many mechanical systems such\nas a spherical pendulum, double pendulum, quadrotor with a cable-suspended load,\nevolve on either $\\mathbb{S}^2$ or products comprising of \n$\\mathbb{S}^2$.\n\nIn this script, we estimate the state of a system living on the sphere but where\nobservations are standard vectors. You can have a text description of the \nspherical pendulum dynamics in :cite:`sjobergAn2019`, Section 7, and\n:cite:`kotaruVariation2019`.\n\n"
      ],
      "cell_type": "markdown",
      "metadata": {}
    },
    {
      "source": [
        "Import\n==============================================================================\n\n"
      ],
      "cell_type": "markdown",
      "metadata": {}
    },
    {
      "outputs": [],
      "metadata": {
        "collapsed": false
      },
      "cell_type": "code",
      "execution_count": null,
      "source": [
        "from scipy.linalg import block_diag \nimport ukfm \nimport numpy as np \nimport matplotlib \nukfm.utils.set_matplotlib_config()"
      ]
    },
    {
      "source": [
        "Model and Simulation\n==============================================================================\nThis script uses the ``PENDULUM`` model class that requires  the\nsequence time and the model frequency to create an instance of the model.\n\n"
      ],
      "cell_type": "markdown",
      "metadata": {}
    },
    {
      "outputs": [],
      "metadata": {
        "collapsed": false
      },
      "cell_type": "code",
      "execution_count": null,
      "source": [
        "# sequence time (s)\nT = 10\n# model frequency (Hz)\nmodel_freq = 100\n# create the model\nmodel = ukfm.PENDULUM(T, model_freq)"
      ]
    },
    {
      "source": [
        "The true trajectory is computed along with empty inputs (the model does not\nrequire any input) after we define the noise standard deviation affecting the\ndynamic.\n\n"
      ],
      "cell_type": "markdown",
      "metadata": {}
    },
    {
      "outputs": [],
      "metadata": {
        "collapsed": false
      },
      "cell_type": "code",
      "execution_count": null,
      "source": [
        "# model standard-deviation noise (noise is isotropic)\nmodel_std = np.array([1/180*np.pi,  # orientation (rad) \n                      1/180*np.pi])   # orientation velocity (rad/s)\n\n# simulate true trajectory and noised input\nstates, omegas = model.simu_f(model_std)"
      ]
    },
    {
      "source": [
        "The state and the input contain the following variables:\n\n.. highlight:: python\n.. code-block:: python\n\n  states[n].Rot  # 3d orientation (matrix)\n  states[n].u    # 3d angular velocity\n  omegas[n]      # empty input\n\nThe model dynamics is based on the Euler equations of pendulum motion.\n\n"
      ],
      "cell_type": "markdown",
      "metadata": {}
    },
    {
      "source": [
        "We compute noisy measurements at low frequency based on the true state\nsequence.\n\n"
      ],
      "cell_type": "markdown",
      "metadata": {}
    },
    {
      "outputs": [],
      "metadata": {
        "collapsed": false
      },
      "cell_type": "code",
      "execution_count": null,
      "source": [
        "# observation frequency (Hz)\nobs_freq = 20\n# observation noise standard deviation (m)\nobs_std = 0.02\n# simulate landmark measurements\nys, one_hot_ys = model.simu_h(states, obs_freq, obs_std)"
      ]
    },
    {
      "source": [
        "We assume observing only the position of the state only in the\n$yz$-plan.\n\n"
      ],
      "cell_type": "markdown",
      "metadata": {}
    },
    {
      "source": [
        "Filter Design and Initialization\n------------------------------------------------------------------------------\nWe choose in this example to embed the state in $SO(3) \\times \\mathbb{R}\n^3$ with left multiplication, such that:\n\n- the retraction $\\varphi(.,.)$ is the $SO(3)$ exponential map for\n  orientation where the state multiplies the uncertainty on the left, and the\n  standard vector addition for the  velocity.\n\n- the inverse retraction $\\varphi^{-1}(.,.)$ is the $SO(3)$\n  logarithm for orientation and the standard vector subtraction for the\n  velocity.\n\nRemaining parameter setting is standard.\n\n"
      ],
      "cell_type": "markdown",
      "metadata": {}
    },
    {
      "outputs": [],
      "metadata": {
        "collapsed": false
      },
      "cell_type": "code",
      "execution_count": null,
      "source": [
        "# propagation noise matrix\nQ = block_diag(model_std[0]**2*np.eye(3), model_std[1]**2*np.eye(3))\n# measurement noise matrix\nR = obs_std**2*np.eye(2)\n# initial error matrix\nP0 = block_diag((45/180*np.pi)**2*np.eye(3), (10/180*np.pi)**2*np.eye(3))\n\n# sigma point parameters\nalpha = np.array([1e-3, 1e-3, 1e-3])\n\nstate0 = model.STATE(Rot=np.eye(3), u=np.zeros(3))\n\nukf = ukfm.UKF(state0=state0, P0=P0, f=model.f, h=model.h, Q=Q, R=R,\n        phi=model.phi, phi_inv=model.phi_inv, alpha=alpha)\n\n# set variables for recording estimates along the full trajectory\nukf_states = [state0] \nukf_Ps = np.zeros((model.N, 6, 6)) \nukf_Ps[0] = P0"
      ]
    },
    {
      "source": [
        "Filtering\n==============================================================================\nThe UKF proceeds as a standard Kalman filter with a simple for loop.\n\n"
      ],
      "cell_type": "markdown",
      "metadata": {}
    },
    {
      "outputs": [],
      "metadata": {
        "collapsed": false
      },
      "cell_type": "code",
      "execution_count": null,
      "source": [
        "# measurement iteration number\nk = 1 \nfor n in range(1, model.N): \n    # propagation \n    ukf.propagation(omegas[n-1], model.dt)\n    # update only if a measurement is received \n    if one_hot_ys[n] == 1:\n        ukf.update(ys[k]) \n        k = k + 1 \n    # save estimates \n    ukf_states.append(ukf.state)\n    ukf_Ps[n] = ukf.P"
      ]
    },
    {
      "source": [
        "Results\n------------------------------------------------------------------------------\nWe plot the position of the pendulum as function of time, the position in the\n$xy$ plan and the position in the $yz$ plan (we are more\ninterested in the position of the pendulum than its orientation). We compute\nthe $3\\sigma$ interval confidence by leveraging the *covariance\nretrieval* proposed in :cite:`brossardCode2019`, Section V-B.\n\n"
      ],
      "cell_type": "markdown",
      "metadata": {}
    },
    {
      "outputs": [],
      "metadata": {
        "collapsed": false
      },
      "cell_type": "code",
      "execution_count": null,
      "source": [
        "model.plot_results(ukf_states, ukf_Ps, states)"
      ]
    },
    {
      "source": [
        "On the first plot, we observe that even if the state if unaccurately\ninitialized, the filter estimates  the depth position ($x$ axis) of the\npendulum whereas only the $yz$ position of the pendulum is observed. \n\nThe second and third plots show how the filter converges to the true state.\nFinally, the last plot reveals the consistency of the filter, where the\ninterval confidence encompasses the error.\n\n"
      ],
      "cell_type": "markdown",
      "metadata": {}
    },
    {
      "source": [
        "Conclusion\n==============================================================================\nWe have seen in this script how well works the UKF on parallelizable\nmanifolds for estimating the position of a spherical pendulum where only two\ncomponents of the pendulum are measured. The filter is accurate, robust to\nstrong initial errors, and obtains consistent covariance estimates with the\nmethod proposed in :cite:`brossardCode2019`.\n\nYou can now:\n\n- address the same problem with another retraction, e.g. with right\n  multiplication.\n\n- modify the measurement with 3D position.\n\n- consider the mass of the system as unknown and estimate it.\n\n"
      ],
      "cell_type": "markdown",
      "metadata": {}
    }
  ]
}