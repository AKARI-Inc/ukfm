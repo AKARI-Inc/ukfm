{
  "cells": [
    {
      "source": [
        "%matplotlib inline"
      ],
      "cell_type": "code",
      "execution_count": null,
      "outputs": [],
      "metadata": {
        "collapsed": false
      }
    },
    {
      "source": [
        "\n********************************************************************************\n2D Robot Localization on Real Data\n********************************************************************************\n\nGoals of this script:\n\n- apply the UKF for the 2D robot localization example with real data.\n\n*We assume the reader is already familiar with the considered problem described\nin the tutorial.*\n\nWe address the same problem described in the 2D robot localization tutorial,\nwith real data.\n\n"
      ],
      "cell_type": "markdown",
      "metadata": {}
    },
    {
      "source": [
        "Import\n==============================================================================\n\n"
      ],
      "cell_type": "markdown",
      "metadata": {}
    },
    {
      "source": [
        "from ukfm import LOCALIZATION as MODEL\nimport ukfm\nimport numpy as np\nimport matplotlib\nukfm.utils.set_matplotlib_config()"
      ],
      "cell_type": "code",
      "execution_count": null,
      "outputs": [],
      "metadata": {
        "collapsed": false
      }
    },
    {
      "source": [
        "Model and Data\n==============================================================================\n\nThis script uses the ``LOCALIZATION`` model class that requires  the sequence\ntime and the odometry frequency to create an instance of the model.\n\nInstead of creating data, we load recorded data. We have recorded five\nsequences (sequence 2 and 3 are the more interesting).\n\n"
      ],
      "cell_type": "markdown",
      "metadata": {}
    },
    {
      "source": [
        "# sequence number\nn_sequence = 3\n# GPS frequency (Hz)\ngps_freq = 2\n# GPS noise standard deviation (m)\ngps_std = 0.1\n\n# load data\nstates, omegas, ys, one_hot_ys, t = MODEL.load(n_sequence, gps_freq, gps_std)"
      ],
      "cell_type": "code",
      "execution_count": null,
      "outputs": [],
      "metadata": {
        "collapsed": false
      }
    },
    {
      "source": [
        "The real data have been obtained in an experiment conducted at the Centre for\nRobotics, MINES ParisTech. We used a so-called Wifibot, which is a small\nwheeled robot equipped with independent odometers on the left and right\nwheels, see figure. A set of seven highly precise cameras, the OptiTrack\nmotion capture system, provide the reference trajectory (ground truth) with\nsub-millimeter precision at a rate of 120 Hz.\n\n.. figure:: ../images/robot.jpg\n   :scale: 20 %\n   :alt: robot picture.\n   :align: center\n\n   Testing arena with Wifibot robot in the foreground of the picture. We can\n   also see two of the seven Optitrack cameras in the background.\n\n"
      ],
      "cell_type": "markdown",
      "metadata": {}
    },
    {
      "source": [
        "We define noise odometry standard deviation for the filter.\n\n"
      ],
      "cell_type": "markdown",
      "metadata": {}
    },
    {
      "source": [
        "odo_std = np.array([0.15,   # longitudinal speed\n                    0.05,   # transverse shift speed\n                    0.15])  # differential odometry"
      ],
      "cell_type": "code",
      "execution_count": null,
      "outputs": [],
      "metadata": {
        "collapsed": false
      }
    },
    {
      "source": [
        "Filter Design\n==============================================================================\nWe choose here to embed the state in $SE(2)$ with left multiplication,\ni.e. \n\n - the retraction $\\varphi(.,.)$ is the $SE(2)$ exponential, where\n   the state multiplies on the left the error $\\boldsymbol{\\xi}$.\n\n - the inverse $\\varphi^{-1}(.,.)$ is the $SE(2)$ logarithm.\n\nWe define the UKF parameters based on the model parameters.\n\n"
      ],
      "cell_type": "markdown",
      "metadata": {}
    },
    {
      "source": [
        "# propagation noise matrix\nQ = np.diag(odo_std ** 2)\n# measurement noise matrix\nR = gps_std ** 2 * np.eye(2)\n# sigma point parameters\nalpha = np.array([1e-3, 1e-3, 1e-3])"
      ],
      "cell_type": "code",
      "execution_count": null,
      "outputs": [],
      "metadata": {
        "collapsed": false
      }
    },
    {
      "source": [
        "Filter Initialization\n------------------------------------------------------------------------------\nWe initialize the filter with the true state plus an initial error heading of\n30\u00b0, and set corresponding initial covariance matrices.\n\n"
      ],
      "cell_type": "markdown",
      "metadata": {}
    },
    {
      "source": [
        "# \"add\" orientation error to the initial state\nSO2 = ukfm.SO2\nstate0 = MODEL.STATE(Rot=states[0].Rot.dot(SO2.exp(30/180*np.pi)),\n                     p=states[0].p)\n\n# initial state-error covariance matrix\nP0 = np.zeros((3, 3))\n# The state is not perfectly initialized\nP0[0, 0] = (30/180*np.pi) ** 2"
      ],
      "cell_type": "code",
      "execution_count": null,
      "outputs": [],
      "metadata": {
        "collapsed": false
      }
    },
    {
      "source": [
        "We then define the filter as an instance  of the ``UKF`` class.\n\n"
      ],
      "cell_type": "markdown",
      "metadata": {}
    },
    {
      "source": [
        "ukf = ukfm.UKF(state0=state0,               # \u00a0initial state\n               P0=P0,                       # initial covariance\n               f=MODEL.f,                   # propagation model\n               h=MODEL.h,                   # observation model\n               Q=Q,                         # process noise covariance\n               R=R,                         # observation noise covariance\n               phi=MODEL.left_phi,          # retraction function\n               phi_inv=MODEL.left_phi_inv,  # inverse retraction function\n               alpha=alpha                  # sigma point parameters\n               )"
      ],
      "cell_type": "code",
      "execution_count": null,
      "outputs": [],
      "metadata": {
        "collapsed": false
      }
    },
    {
      "source": [
        "Before launching the filter, we set a list for recording estimates along the\nfull trajectory and a 3D array to record covariance estimates.\n\n"
      ],
      "cell_type": "markdown",
      "metadata": {}
    },
    {
      "source": [
        "N = t.shape[0]\nukf_states = [ukf.state]\nukf_Ps = np.zeros((N, 3, 3))\nukf_Ps[0] = ukf.P"
      ],
      "cell_type": "code",
      "execution_count": null,
      "outputs": [],
      "metadata": {
        "collapsed": false
      }
    },
    {
      "source": [
        "Filtering\n------------------------------------------------------------------------------\nThe UKF proceeds as a standard Kalman filter with a simple for loop.\n\n"
      ],
      "cell_type": "markdown",
      "metadata": {}
    },
    {
      "source": [
        "# measurement iteration number (first measurement is for n == 0)\nk = 1\nfor n in range(1, N):\n    # propagation\n    dt = t[n] - t[n-1]\n    ukf.propagation(omegas[n-1], dt)\n    # update only if a measurement is received\n    if one_hot_ys[n] == 1:\n        ukf.update(ys[k])\n        k += 1\n\n    # save estimates\n    ukf_states.append(ukf.state)\n    ukf_Ps[n] = ukf.P"
      ],
      "cell_type": "code",
      "execution_count": null,
      "outputs": [],
      "metadata": {
        "collapsed": false
      }
    },
    {
      "source": [
        "Results\n==============================================================================\nWe plot the trajectory, GPS measurements and estimated trajectory. As UKF\nestimates the covariance of the error, we have plotted the 95% confident\ninterval ($3\\sigma$).\n\n"
      ],
      "cell_type": "markdown",
      "metadata": {}
    },
    {
      "source": [
        "MODEL.plot_wifibot(ukf_states, ukf_Ps, states, ys, t)"
      ],
      "cell_type": "code",
      "execution_count": null,
      "outputs": [],
      "metadata": {
        "collapsed": false
      }
    },
    {
      "source": [
        "All results seem coherent. This is convincing as the initial heading error is\nrelatively high.\n\n"
      ],
      "cell_type": "markdown",
      "metadata": {}
    },
    {
      "source": [
        "Conclusion\n==============================================================================\nThis script apply the UKF for localizing a robot on real data. The filter\nworks apparently well on this localization problem on real data, with moderate\ninitial heading error.\n\nYou can now:\n\n* test the UKF on different sequences and with a different choice of \n  retraction.\n\n* address the UKF for the same problem with  range and bearing measurements of\n  known landmarks.\n\n* enter more in depth with the theory, see :cite:`brossardCode2019`.\n\n* benchmark the UKF with different function error and compare the new filters\n  to both the extended Kalman filter and invariant extended Kalman filter of\n  :cite:`barrauInvariant2017` (see the benchmarks section).\n\n"
      ],
      "cell_type": "markdown",
      "metadata": {}
    }
  ],
  "nbformat_minor": 0,
  "nbformat": 4,
  "metadata": {
    "language_info": {
      "codemirror_mode": {
        "version": 3,
        "name": "ipython"
      },
      "version": "3.5.2",
      "nbconvert_exporter": "python",
      "name": "python",
      "file_extension": ".py",
      "pygments_lexer": "ipython3",
      "mimetype": "text/x-python"
    },
    "kernelspec": {
      "display_name": "Python 3",
      "name": "python3",
      "language": "python"
    }
  }
}