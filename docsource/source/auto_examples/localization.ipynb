{
  "cells": [
    {
      "cell_type": "code",
      "metadata": {
        "collapsed": false
      },
      "source": [
        "%matplotlib inline"
      ],
      "execution_count": null,
      "outputs": []
    },
    {
      "cell_type": "markdown",
      "metadata": {},
      "source": [
        "\n\n********************************************************************************\n2D Robot Localization - Tutorial\n********************************************************************************\n\nThis tutorial introduces the main aspects of **UKF-M**.\n\nGoals of this script:\n\n- understand the main principles of Unscented Kalman Filtering on Manifolds\n  (**UKF-M**) which are described in :cite:`brossardCode2019`.\n- get familiar with the implementation.\n- design an UKF for a vanilla 2D robot localization problem.\n\n*We assume the reader to have sufficient prior knowledge with (unscented) Kalman\nfiltering. However, we require really approximate prior knowledge and intuition\nabout manifolds and tangent spaces.*\n\nThis tutorial describes all one require to design an Unscented Kalman Filter\n(UKF) on a (parallelizable) manifold, and puts in evidence the versatility and\nsimplicity of the method in term of implementation. Indeed, we only need to\ndefine an UKF on parallelizable manifolds:\n\n1) a (physical) **model** of the state-space system that specifies the\n   propagation and measurement functions of the system.\n\n2) an **uncertainty representation** of the estimated state of the system, which\n   is a mapping that generalizes the linear error definition $\\mathbf{e}\n   = \\mathbf{x} - \\mathbf{\\hat{x}}$ to any type non-linear uncertainty\n   representation.\n\n3) standard UKF parameters that are noise covariance matrices and sigma point\n   parameters.\n\nWe introduce the UKF methodology by addressing the vanilla problem of robot\nlocalization, where the robot obtains velocity measurements, e.g., from wheel\nodometry, and position measurements, e.g., from GPS. The robot state consists of\nthe robot orientation along with the 2D robot position. We reproduce the example\nthat is described in :cite:`barrauInvariant2017`, Section IV.\n\n"
      ]
    },
    {
      "cell_type": "markdown",
      "metadata": {},
      "source": [
        "Import\n==============================================================================\n\n"
      ]
    },
    {
      "cell_type": "markdown",
      "metadata": {},
      "source": [
        "Package import is minimal, as **UKF-M** is mainly build on the standard NumPy\npackage.\n\n"
      ]
    },
    {
      "cell_type": "code",
      "metadata": {
        "collapsed": false
      },
      "source": [
        "import ukfm\nimport numpy as np\nimport matplotlib\nukfm.utils.set_matplotlib_config()\n#\u00a0The matplotlib configuration is only for better render the figures."
      ],
      "execution_count": null,
      "outputs": []
    },
    {
      "cell_type": "markdown",
      "metadata": {},
      "source": [
        "The Model\n==============================================================================\n\nThe first ingredient we need is a (physically based) **model** that defines:\n\n1) the state of the system at instant $n$, noted\n   $\\boldsymbol{\\chi}_n \\in \\mathcal{M}$, where $\\mathcal{M}$ is \n   a parallelizable manifold (vectors spaces, Lie groups and others). Here the\n   state corresponds to the robot orientation and the 2D robot position:\n\n   .. math::\n\n       \\mathcal{M} = \\left\\{ \\begin{matrix} \n       \\mathbf{C} \\in SO(2),\n       \\mathbf{p} \\in \\mathbb R^2\n       \\end{matrix} \\right\\}.\n\n\n2) a propagation function that describes how the state of the system evolves\n   along time\n\n      .. math::\n          \\boldsymbol{\\chi}_n = f(\\boldsymbol{\\chi}_{n-1},\n          \\boldsymbol{\\omega}_{n}, \\mathbf{w}_{n}) \\in \\mathcal{M},\n\n   where  $\\boldsymbol{\\omega}_{n}$ is the input of the system and\n   $\\mathbf{w}_{n} \\sim \\mathcal{N}(\\mathbf{0}, \\mathbf{Q}_n)$ a noise\n   affecting the input and the model propagation.\n\n3) an observation function that describes which measurements we dispose of in\n   the form of\n\n      .. math::\n\n       \\mathbf{y}_n = h(\\boldsymbol{\\chi}_{n}) + \\mathbf{v}_n \n       \\in \\mathbb{R}^p, \n\n   where  $\\mathbf{v}_{n} \\sim \\mathcal{N}(\\mathbf{0}, \\mathbf{R}_n)$ is\n   Gaussian noise.\n\nThe code contains several examples of models, which are declared as class. In\nthis script, we will use the ``LOCALIZATION`` model.\n\n"
      ]
    },
    {
      "cell_type": "code",
      "metadata": {
        "collapsed": false
      },
      "source": [
        "MODEL = ukfm.LOCALIZATION"
      ],
      "execution_count": null,
      "outputs": []
    },
    {
      "cell_type": "markdown",
      "metadata": {},
      "source": [
        "<div class=\"alert alert-info\"><h4>Note</h4><p></p></div>\n\n State and input are defined through classes. A state or an input is an\n instance of the ``STATE`` and ``INPUT`` classes that are described in there\n parent ``MODEL`` class. We prove it is useful as the state and the input have\n often a complex form that is not handled in vector, .e.g. an orientation\n matrix. In contrast we consider for conciseness that measurement at time\n $n$ is a vector (1D-array).\n\n\n"
      ]
    },
    {
      "cell_type": "markdown",
      "metadata": {},
      "source": [
        "Simulating the Model\n------------------------------------------------------------------------------\n\nAlong with the model, we compute simulated data, where the robot drives along\na 10 m diameter circle for 40 seconds with high rate odometer measurements\n(100 Hz) and low rate position measurements (1 Hz). We first define the\nparameters, create an instance of the model, and compute the true state of\nrobot during the sequence along with noisy inputs, where we have to define the\ntrajectory radius and noise standard deviation.\n\n"
      ]
    },
    {
      "cell_type": "code",
      "metadata": {
        "collapsed": false
      },
      "source": [
        "# sequence time (s)\nT = 40\n# odometry frequency (Hz)\nodo_freq = 100\n\n# \u00a0create the model\nmodel = MODEL(T, odo_freq)\n\n# odometry noise standard deviation\nodo_std = np.array([0.01,          # longitudinal speed (v/m)\n                    0.01,          # transverse shift speed (v/m)\n                    1/180*np.pi])  # differential odometry (rad/s)\n\n# radius of the circle trajectory (m)\nradius = 5\n\n# simulate trajectory\nstates, omegas = model.simu_f(odo_std, radius)"
      ],
      "execution_count": null,
      "outputs": []
    },
    {
      "cell_type": "markdown",
      "metadata": {},
      "source": [
        "<div class=\"alert alert-info\"><h4>Note</h4><p>The model encodes how noise affects the inputs and the propagation function,\n  which can be non-linear. In contrast, we assume measurement noise affects\n  the observations linearly. It is often the case in practice and sparse us\n  some computation time, but the method can handle non-linear observation\n  noises of the form $\\mathbf{y}_n = h(\\boldsymbol{\\chi}_{n},\n  \\mathbf{v}_n)$.</p></div>\n\n\n"
      ]
    },
    {
      "cell_type": "markdown",
      "metadata": {},
      "source": [
        "The states and inputs variables are both list of ``STATE`` and ``INPUT``\nclasses instances. One can access to the state at specific instant $n$\nas\n\n.. highlight:: python\n.. code-block:: python\n\n  state_n = states[n] # model.STATE instance\n  omega_n = omegas[n] #\u00a0model.INPUT instance\n\nWe can then access to the elements of the state or the input as\n\n.. highlight:: python\n.. code-block:: python\n\n  state_n.Rot    # 2d orientation encoded in a rotation matrix\n  state_n.p      # 2d position\n  omega_n.v      # robot forward velocity\n  omega_n.gyro   # robot angular velocity\n\nThe elements of the state and the input depend on the considered problem, they\nare thus defined in the model class ``LOCALIZATION``. You can directly look at\nthe :meth:`~ukfm.LOCALIZATION` class to see how they are defined, that is also\ndescribed in :cite:`barrauInvariant2017`. The model documentation contains\nalso a mathematical description of the propagation and measumrent functions.\n\n<div class=\"alert alert-info\"><h4>Note</h4><p>The orientation of the robot, ``states[n].Rot``, is defined via a rotation\n    matrix. Indeed, in all the examples, we define 2D and 3D orientations in\n    matrices living respectively in $SO(2)$ and $SO(3)$ and we\n    believe it is a well understandable orientation representation. The method\n    remains compatible both with angle or quaternion that can be advantageous\n    for numerical reasons (stability to round-off error, speed). We may drop\n    some numerical issues (round-off that leads to non-orthogonal rotation\n    matrices, non symmetric covariance matrices, speed improvement,\n    integration methods with Runge-Kutta scheme, ...) in order to let the code\n    simple.</p></div>\n\nWith the *true* state trajectory, we simulate *noisy* measurements of the\nrobot position, where the odometry and GPS have different frequencies.\n\n"
      ]
    },
    {
      "cell_type": "code",
      "metadata": {
        "collapsed": false
      },
      "source": [
        "# GPS frequency (Hz)\ngps_freq = 1\n# GPS noise standard deviation (m)\ngps_std = 1\n# simulate measurements\nys, one_hot_ys = model.simu_h(states, gps_freq, gps_std)"
      ],
      "execution_count": null,
      "outputs": []
    },
    {
      "cell_type": "markdown",
      "metadata": {},
      "source": [
        "The variable ``ys`` is a 2D array that contains all the observations of the\nsequence. To get the k-th measurement, simply take the k-th element the\nvariable as\n\n.. highlight:: python\n.. code-block:: python\n\n      y_k = ys[k] # vector (1D array)\n\n\nWe also have defined an array ``one_hot_ys`` that contains 1 at instant where\na measurement happens and 0 otherwise (we indeed have a kind of multi-rate\nKalman filter).\n\nWe can visualize the robot trajectory along with measurements.\n\n"
      ]
    },
    {
      "cell_type": "code",
      "metadata": {
        "collapsed": false
      },
      "source": [
        "model.plot_traj(states, ys)"
      ],
      "execution_count": null,
      "outputs": []
    },
    {
      "cell_type": "markdown",
      "metadata": {},
      "source": [
        "GPS measurements are visibly noisy.\n\n"
      ]
    },
    {
      "cell_type": "markdown",
      "metadata": {},
      "source": [
        "Filter Design\n==============================================================================\nDesigning an UKF on parallelizable manifolds consists in:\n\n1) defining a model of the propagation function and the measurement function.\n\n2) choosing the retraction $\\varphi(.,.)$ and inverse retraction\n   $\\varphi^{-1}(.,.)$ (we discuss about this below) such that\n\n   .. math::\n\n      \\boldsymbol{\\chi} &= \\varphi(\\hat{\\boldsymbol{\\chi}}, \\boldsymbol{\\xi}),\n\n      \\boldsymbol{\\xi} &= \\varphi^{-1}(\\boldsymbol{\\chi},\n      \\hat{\\boldsymbol{\\chi}}),\n\n  where $\\boldsymbol{\\chi}$ is the true state,\n  $\\hat{\\boldsymbol{\\chi}}$ the estimated state, and\n  $\\boldsymbol{\\xi}$ the state uncertainty (we does not use notation\n  $\\mathbf{x}$ and $\\mathbf{e}$ to emphasize the differences with\n  the linear case).\n\n3) setting UKF parameters such as sigma point dispersion and noise covariance\n   values.\n\nStep 1) is already done, as we just have to take the functions defined in the\nmodel.\n\nStep 2) consists in choosing the functions that encodes our representation of\nthe state uncertainty. A basic UKF is building on the error defined as\n$\\mathbf{e} = \\mathbf{x} - \\mathbf{\\hat{x}}$, which is clearly not\noptimal for dealing, among other, with orientation. Rather than we generalize\nand define the uncertainty $\\boldsymbol{\\xi}$  thought\n$\\boldsymbol{\\chi} = \\varphi(\\hat{\\boldsymbol{\\chi}},\n\\boldsymbol{\\xi})$, where the *retraction* function $\\varphi(.,.)$ has\nonly to satisfy $\\varphi(\\boldsymbol{\\chi}, \\mathbf{0}) =\n\\boldsymbol{\\chi}$ (without uncertainty, the estimated state equals the true\nstate). The uncertainty $\\boldsymbol{\\xi}$ lives in a vector space\n$\\mathbb{R}^d$ and one can use standard UKF tools on this variable. We\nthen need a *inverse retraction* function to get a vector difference from two\nstates, that must respect $\\varphi^{-1}(\\boldsymbol{\\chi},\n\\boldsymbol{\\chi}) = \\mathbf{0}$.\n\nWe choose here to embed the state in $SO(2) \\times \\mathbb{R}^2$, such\nthat:\n\n* the function $\\varphi(.,.)$ is the $SO(2)$ exponential map for\n  orientation and the standard vector addition for robot position.\n* the function $\\varphi^{-1}(.,.)$ is the $SO(2)$ logarithm for\n  orientation and the standard vector subtraction for position.\n\n<div class=\"alert alert-info\"><h4>Note</h4><p>We define the retraction and inverse retraction, which are chosen by the\n    user, directly in the model class.</p></div>\n\n<div class=\"alert alert-info\"><h4>Note</h4><p>One can suggest alternative and more adapted retraction, e.g. by viewing \n    the state as a element of $SE(2)$. It generally exists several\n    possibilities to define retraction. When no theoretical suggestions\n    are in favour of a retraction, we suggest to just compare then. In the\n    benchmarks section, we compare different choices of retraction for \n    different problems.</p></div>\n\nWe  define the UKF parameters based on the model parameters.\n\n"
      ]
    },
    {
      "cell_type": "code",
      "metadata": {
        "collapsed": false
      },
      "source": [
        "# propagation noise matrix\nQ = np.diag(odo_std ** 2)\n# measurement noise matrix\nR = gps_std ** 2 * np.eye(2)\n# sigma point parameters\nalpha = np.array([1e-3, 1e-3, 1e-3])\n# this parameter scales the sigma points. Current values are between 10^-3 and 1"
      ],
      "execution_count": null,
      "outputs": []
    },
    {
      "cell_type": "markdown",
      "metadata": {},
      "source": [
        "Filter Initialization\n------------------------------------------------------------------------------\nWe initialize the filter with the true state plus a small initial error\nheading of 1\u00b0, and set corresponding initial covariance matrices.\n\n"
      ]
    },
    {
      "cell_type": "code",
      "metadata": {
        "collapsed": false
      },
      "source": [
        "# \"add\" orientation error to the initial state\nSO2 = ukfm.SO2\nstate0 = model.STATE(Rot=states[0].Rot.dot(SO2.exp(1/180*np.pi)),\n                     p=states[0].p)\n\n# initial state-error covariance matrix\nP0 = np.zeros((3, 3))\n# The state is not perfectly initialized\nP0[0, 0] = (1/180*np.pi) ** 2"
      ],
      "execution_count": null,
      "outputs": []
    },
    {
      "cell_type": "markdown",
      "metadata": {},
      "source": [
        "We then define the filter as an instance  of the ``UKF`` class.\n\n"
      ]
    },
    {
      "cell_type": "code",
      "metadata": {
        "collapsed": false
      },
      "source": [
        "ukf = ukfm.UKF(state0=state0,          #\u00a0initial state\n               P0=P0,                  # initial covariance\n               f=model.f,              # propagation model\n               h=model.h,              # observation model\n               Q=Q,                    # process noise covariance\n               R=R,                    # observation noise covariance\n               phi=model.phi,          # retraction\n               phi_inv=model.phi_inv,  # inverse retraction\n               alpha=alpha             # sigma point parameters\n               )"
      ],
      "execution_count": null,
      "outputs": []
    },
    {
      "cell_type": "markdown",
      "metadata": {},
      "source": [
        "Before launching the filter, we set a list for recording estimates along the\nfull trajectory and a 3D array to record covariance estimates.\n\n"
      ]
    },
    {
      "cell_type": "code",
      "metadata": {
        "collapsed": false
      },
      "source": [
        "ukf_states = [ukf.state]\nukf_Ps = np.zeros((model.N, 3, 3))\nukf_Ps[0] = ukf.P"
      ],
      "execution_count": null,
      "outputs": []
    },
    {
      "cell_type": "markdown",
      "metadata": {},
      "source": [
        "Filtering\n------------------------------------------------------------------------------\nThe UKF proceeds as a standard Kalman filter with a simple for loop.\n\n"
      ]
    },
    {
      "cell_type": "code",
      "metadata": {
        "collapsed": false
      },
      "source": [
        "# measurement iteration number (first measurement is for n == 0)\nk = 1\nfor n in range(1, model.N):\n    # propagation\n    ukf.propagation(omegas[n-1], model.dt)\n    # update only if a measurement is received\n    if one_hot_ys[n] == 1:\n        ukf.update(ys[k])\n        k += 1\n\n    # save estimates\n    ukf_states.append(ukf.state)\n    ukf_Ps[n] = ukf.P"
      ],
      "execution_count": null,
      "outputs": []
    },
    {
      "cell_type": "markdown",
      "metadata": {},
      "source": [
        "Results\n==============================================================================\nWe plot the trajectory, GPS measurements and estimated trajectory. As UKF\nestimates the covariance of the error, we have plotted the 95% confident\ninterval ($3\\sigma$). We expect the error keeps behind this interval.\nThis plotted results has of course to be confirmed with average metrics to\nreveal the filter performances in term of accuracy, consistency and\nrobustness.\n\n"
      ]
    },
    {
      "cell_type": "code",
      "metadata": {
        "collapsed": false
      },
      "source": [
        "model.plot_results(ukf_states, ukf_Ps, states, ys)"
      ],
      "execution_count": null,
      "outputs": []
    },
    {
      "cell_type": "markdown",
      "metadata": {},
      "source": [
        "All results seem coherent. This is expected as the initial heading error is\nvery small.\n\n"
      ]
    },
    {
      "cell_type": "markdown",
      "metadata": {},
      "source": [
        "Conclusion\n==============================================================================\n\nThis script introduces UKF-M and shows how the UKF on parallelizable manifolds\ngeneralizes the standard UKF by considering an user-chosen uncertainty\nrepresentation. Two major advantages are that many problems could be addressed\nwith the proposed framework, and that both the theory and the implementation\nare not so complicated. Once the physical model is established, deriving an\nUKF is quite immediate.\n\nThe filter works apparently well on a simple robot localization problem, with\nsmall initial heading error. Is it hold for more challenging initial error ?\n\nYou can now:\n\n* enter more in depth with the theory, see :cite:`brossardCode2019`.\n\n* address the UKF for the same problem with different noise parameters, and\n  even tested its robustness e.g. to strong initial heading error.\n\n* modify the propagation model with a differential odometry model, where\n  inputs are left and right wheel speed measurements.\n\n* apply the UKF for the same problem on real data.\n\n* benchmark the UKF with different function error and compare the new filters\n  to both the extended Kalman filter and invariant extended Kalman filter of\n  :cite:`barrauInvariant2017`.\n\n"
      ]
    }
  ],
  "metadata": {
    "language_info": {
      "pygments_lexer": "ipython3",
      "name": "python",
      "nbconvert_exporter": "python",
      "mimetype": "text/x-python",
      "codemirror_mode": {
        "name": "ipython",
        "version": 3
      },
      "file_extension": ".py",
      "version": "3.5.2"
    },
    "kernelspec": {
      "name": "python3",
      "display_name": "Python 3",
      "language": "python"
    }
  },
  "nbformat_minor": 0,
  "nbformat": 4
}