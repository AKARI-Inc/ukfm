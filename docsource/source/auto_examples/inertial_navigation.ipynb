{
  "nbformat_minor": 0,
  "cells": [
    {
      "source": [
        "%matplotlib inline"
      ],
      "cell_type": "code",
      "execution_count": null,
      "outputs": [],
      "metadata": {
        "collapsed": false
      }
    },
    {
      "source": [
        "\n********************************************************************************\nNavigation on Flat Earth - Example\n********************************************************************************\n\nGoals of this script:\n\n- apply the UKF on parallelizable manifolds for estimating the 3D attitude,\n  velocity and position of a moving vehicle.\n\n*We assume the reader is already familiar with the approach described in the\ntutorial.*\n\nThis script proposes an UKF  on parallelizable manifolds to estimate the 3D\nattitude, the velocity, and the position of a rigid body in space from inertial\nsensors and relative observations of points having known locations by following\nthe setting of :cite:`barrauInvariant2017` and :cite:`VasconcelosA2010`. The\nvehicle is owed with a three axis Inertial Measurement Unit (IMU) consisting in\naccelerometers and gyroscopes. Observations of the relative position of known\nfeatures (using for instance a depth camera) are addressed.\n\n"
      ],
      "cell_type": "markdown",
      "metadata": {}
    },
    {
      "source": [
        "Import\n==============================================================================\n\n"
      ],
      "cell_type": "markdown",
      "metadata": {}
    },
    {
      "source": [
        "from scipy.linalg import block_diag\nimport ukfm\nimport numpy as np\nimport matplotlib\nukfm.utils.set_matplotlib_config()"
      ],
      "cell_type": "code",
      "execution_count": null,
      "outputs": [],
      "metadata": {
        "collapsed": false
      }
    },
    {
      "source": [
        "Model and Simulation\n==============================================================================\nThis script uses the ``INERTIAL_NAVIGATION`` model class that requires  the\nsequence time and the IMU frequency to create an instance of the model.\n\n"
      ],
      "cell_type": "markdown",
      "metadata": {}
    },
    {
      "source": [
        "# sequence time (s)\nT = 30\n# IMU frequency (Hz)\nimu_freq = 100\n# create the model\nmodel = ukfm.INERTIAL_NAVIGATION(T, imu_freq)"
      ],
      "cell_type": "code",
      "execution_count": null,
      "outputs": [],
      "metadata": {
        "collapsed": false
      }
    },
    {
      "source": [
        "The true trajectory is computed along with noisy inputs after we define the\nnoise standard deviation affecting the (accurate) IMU.\n\n"
      ],
      "cell_type": "markdown",
      "metadata": {}
    },
    {
      "source": [
        "# IMU standard-deviation noise (noise is isotropic)\nimu_std = np.array([0.01,   # gyro (rad/s)\n                    0.01])  # accelerometer (m/s**2)\n\n# simulate true trajectory and noised input\nstates, omegas = model.simu_f(imu_std)"
      ],
      "cell_type": "code",
      "execution_count": null,
      "outputs": [],
      "metadata": {
        "collapsed": false
      }
    },
    {
      "source": [
        "The state and the input contain the following variables:\n\n.. highlight:: python\n.. code-block:: python\n\n  states[n].Rot  # 3d orientation (matrix)\n  states[n].v    # 3d velocity\n  states[n].p    # 3d position\n  omegas[n].gyro # robot angular velocities\n  omegas[n].acc  # robot specific forces\n\n<div class=\"alert alert-info\"><h4>Note</h4><p>The IMU is assumed unbiased. IMU biases are addressed on the IMU-GNSS fusion\n  problem with real KITTI data.</p></div>\n\n"
      ],
      "cell_type": "markdown",
      "metadata": {}
    },
    {
      "source": [
        "We compute noisy measurements at low frequency based on the true state\nsequence.\n\n"
      ],
      "cell_type": "markdown",
      "metadata": {}
    },
    {
      "source": [
        "# observation frequency (Hz)\nobs_freq = 1\n# observation noise standard deviation (m)\nobs_std = 1\n# simulate landmark measurements\nys, one_hot_ys = model.simu_h(states, obs_freq, obs_std)"
      ],
      "cell_type": "code",
      "execution_count": null,
      "outputs": [],
      "metadata": {
        "collapsed": false
      }
    },
    {
      "source": [
        "A measurement ``ys[k]`` contains stacked observation of all visible landmarks.\nIn this example, we have defined three landmarks that are always visible.\n\n"
      ],
      "cell_type": "markdown",
      "metadata": {}
    },
    {
      "source": [
        "Filter Design and Initialization\n------------------------------------------------------------------------------\nWe now design the UKF on parallelizable manifolds. This script embeds the\nstate in $SO(3) \\times \\mathbb{R}^6$, such that:\n\n* the retraction $\\varphi(.,.)$ is the $SO(3)$ exponential for\n  orientation, and the standard vector addition for the vehicle velocity and\n  position.\n* the inverse retraction $\\varphi^{-1}(.,.)$ is the $SO(3)$\n  logarithm for orientation and the standard vector subtraction for the\n  vehicle velocity and position.\n\nRemaining parameter setting is standard. The initial errors are set around 10\ndegrees for attitude and 1 meter for position standard deviation. These\ninitial conditions are challenging.\n\n"
      ],
      "cell_type": "markdown",
      "metadata": {}
    },
    {
      "source": [
        "# propagation noise matrix\nQ = block_diag(imu_std[0]**2*np.eye(3), imu_std[1]**2*np.eye(3))\n# measurement noise matrix\nR = obs_std**2 * np.eye(3*model.N_ldk)\n\n# initial error matrix such that the state is not perfectly initialized\nP0 = block_diag((10*np.pi/180)**2*np.eye(3), np.zeros((3, 3)), np.eye(3))\n# sigma point parameters\nalpha = np.array([1e-3, 1e-3, 1e-3])\n\n# start by initializing the filter with a string error state\nstate0 = model.STATE(\n    Rot=ukfm.SO3.exp(10*np.pi/180*np.ones(3)/3).dot(states[0].Rot),\n    v=states[0].v,\n    p=states[0].p + np.array([1, 0.5, 0.7])\n)\n\n# create the UKF\nukf = ukfm.UKF(state0=state0,\n               P0=P0,\n               f=model.f,\n               h=model.h,\n               Q=Q,\n               R=R,\n               phi=model.phi,\n               phi_inv=model.phi_inv,\n               alpha=alpha)\n\n# set variables for recording estimates along the full trajectory\nukf_states = [state0]\nukf_Ps = np.zeros((model.N, 9, 9))\nukf_Ps[0] = P0"
      ],
      "cell_type": "code",
      "execution_count": null,
      "outputs": [],
      "metadata": {
        "collapsed": false
      }
    },
    {
      "source": [
        "Filtering\n==============================================================================\nThe UKF proceeds as a standard Kalman filter with a simple for loop.\n\n"
      ],
      "cell_type": "markdown",
      "metadata": {}
    },
    {
      "source": [
        "# measurement iteration number\nk = 1\nfor n in range(1, model.N):\n    # propagation\n    ukf.propagation(omegas[n-1], model.dt)\n    # update only if a measurement is received\n    if one_hot_ys[n] == 1:\n        ukf.update(ys[k])\n        k = k + 1\n    # save estimates\n    ukf_states.append(ukf.state)\n    ukf_Ps[n] = ukf.P"
      ],
      "cell_type": "code",
      "execution_count": null,
      "outputs": [],
      "metadata": {
        "collapsed": false
      }
    },
    {
      "source": [
        "Results\n------------------------------------------------------------------------------\nWe plot the trajectory, the position of the landmarks and the estimated\ntrajectory, along with attitude error, position error, and confidence\ninterval. Since we plot position in the horizontal plan, two landmarks are\nsuperposed.\n\n"
      ],
      "cell_type": "markdown",
      "metadata": {}
    },
    {
      "source": [
        "model.plot_results(ukf_states, ukf_Ps, states)"
      ],
      "cell_type": "code",
      "execution_count": null,
      "outputs": [],
      "metadata": {
        "collapsed": false
      }
    },
    {
      "source": [
        "It seems that the proposed UKF meets strong difficulties and takes some time\nto converge due to the challenging initial conditions. A major problem of the\nUKF (in this problem and with this choice of retraction) is to be\nparticularly overoptimism regarding attitude error, which is clearly outside\nthe confidence intervals.\n\n"
      ],
      "cell_type": "markdown",
      "metadata": {}
    },
    {
      "source": [
        "Conclusion\n==============================================================================\nThis script readily implements an UKF for estimation the 3D pose and velocity\nof a platform. Results are not particularly satisfying, since the filter\ndifficultly converges to the true state even at the end of the trajectory. But\nis it not possible to improve the filter accuracy and consistency performances\nby inflating sensor noise parameters of the filter, or better, by defining a\nretraction more adapted to the considered problem ?\n\nYou are now able to:\n\n* benchmark the UKF and compare it to the extended Kalman filter and invariant\n  extended Kalman filter of :cite:`barrauInvariant2017`.\n\n* modify the measurement model with a non-linear range and bearing\n  measurement.\n\n* add sensor biases both on the gyro and accelerometer measurements, and\n  estimate them.\n\n"
      ],
      "cell_type": "markdown",
      "metadata": {}
    }
  ],
  "metadata": {
    "language_info": {
      "file_extension": ".py",
      "version": "3.5.2",
      "name": "python",
      "codemirror_mode": {
        "version": 3,
        "name": "ipython"
      },
      "mimetype": "text/x-python",
      "nbconvert_exporter": "python",
      "pygments_lexer": "ipython3"
    },
    "kernelspec": {
      "display_name": "Python 3",
      "language": "python",
      "name": "python3"
    }
  },
  "nbformat": 4
}