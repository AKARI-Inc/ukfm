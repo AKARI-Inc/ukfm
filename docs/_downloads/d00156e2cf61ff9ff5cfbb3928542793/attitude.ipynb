{
  "nbformat": 4,
  "cells": [
    {
      "source": [
        "%matplotlib inline"
      ],
      "cell_type": "code",
      "execution_count": null,
      "outputs": [],
      "metadata": {
        "collapsed": false
      }
    },
    {
      "source": [
        "\n********************************************************************************\nAttitude Estimation with an IMU - Example\n********************************************************************************\n\nGoal of this script:\n\n- applying the UKF for estimating 3D attitude from an IMU.\n\n*We assume the reader is already familiar with the tutorial.*\n\nAttitude estimation with an Inertial Measurement Unit (IMU). The filter fuses\nmeasurements coming from gyro, accelerometer and magnetometer. The IMU does not\nhave any bias. We reproduce the simulation based on :cite:`kokUsing2017`.\n\n"
      ],
      "cell_type": "markdown",
      "metadata": {}
    },
    {
      "source": [
        "Import\n==============================================================================\n\n"
      ],
      "cell_type": "markdown",
      "metadata": {}
    },
    {
      "source": [
        "from scipy.linalg import block_diag\nfrom ukfm import ATTITUDE as MODEL\nimport ukfm\nimport numpy as np\nimport matplotlib\nukfm.utils.set_matplotlib_config()"
      ],
      "cell_type": "code",
      "execution_count": null,
      "outputs": [],
      "metadata": {
        "collapsed": false
      }
    },
    {
      "source": [
        "Model and Simulation\n==============================================================================\nThis script uses the ``ATTITUDE`` model class that requires  the sequence time\nand the IMU frequency to create an instance of the model.\n\n"
      ],
      "cell_type": "markdown",
      "metadata": {}
    },
    {
      "source": [
        "# sequence time (s)\nT = 100\n# IMU frequency (Hz)\nimu_freq = 100\n# create the model\nmodel = MODEL(T, imu_freq)"
      ],
      "cell_type": "code",
      "execution_count": null,
      "outputs": [],
      "metadata": {
        "collapsed": false
      }
    },
    {
      "source": [
        "The true trajectory is computed along with noisy inputs after we define the\nnoise standard deviation affecting the (accurate) IMU, where the platform is 2\ns stationary and then have constant angular velocity around gravity.\n\n"
      ],
      "cell_type": "markdown",
      "metadata": {}
    },
    {
      "source": [
        "# IMU standard-deviation noise (noise is isotropic)\nimu_std = np.array([5/180*np.pi,  # gyro (rad/s)\n                    0.4,          # accelerometer (m/s**2)\n                    0.2])         # magnetometer\n\n# simulate true trajectory and noisy inputs\nstates, omegas = model.simu_f(imu_std)"
      ],
      "cell_type": "code",
      "execution_count": null,
      "outputs": [],
      "metadata": {
        "collapsed": false
      }
    },
    {
      "source": [
        "The state and the input contain the following variables:\n\n.. highlight:: python\n.. code-block:: python\n\n      states[n].Rot      # 3d orientation (matrix)\n      omegas[n].gyro     # robot angular velocities\n\n"
      ],
      "cell_type": "markdown",
      "metadata": {}
    },
    {
      "source": [
        "We compute noisy measurements based on the true state sequence.\n\n"
      ],
      "cell_type": "markdown",
      "metadata": {}
    },
    {
      "source": [
        "ys = model.simu_h(states, imu_std)"
      ],
      "cell_type": "code",
      "execution_count": null,
      "outputs": [],
      "metadata": {
        "collapsed": false
      }
    },
    {
      "source": [
        "A measurement ``ys[k]`` contains accelerometer and magnetometer measurements.\n\n"
      ],
      "cell_type": "markdown",
      "metadata": {}
    },
    {
      "source": [
        "Filter Design and Initialization\n------------------------------------------------------------------------------\nWe choose in this example to embed the state in $SO(3)$ with left\nmultiplication, such that:\n\n- the retraction $\\varphi(.,.)$ is the $SO(3)$ exponential map for\n  orientation where the state multiplies the uncertainty on the left.\n\n- the inverse retraction $\\varphi^{-1}(.,.)$ is the $SO(3)$\n  logarithm for orientation.\n\n"
      ],
      "cell_type": "markdown",
      "metadata": {}
    },
    {
      "source": [
        "# propagation noise matrix\nQ = imu_std[0]**2*np.eye(3)\n# measurement noise matrix\nR = block_diag(imu_std[1]**2*np.eye(3), imu_std[2]**2*np.eye(3))\n# initial error matrix\nP0 = np.zeros((3, 3))  # The state is perfectly initialized\n# sigma point parameters\nalpha = np.array([1e-3, 1e-3, 1e-3])"
      ],
      "cell_type": "code",
      "execution_count": null,
      "outputs": [],
      "metadata": {
        "collapsed": false
      }
    },
    {
      "source": [
        "We initialize the filter with the true state.\n\n"
      ],
      "cell_type": "markdown",
      "metadata": {}
    },
    {
      "source": [
        "state0 = model.STATE(Rot=states[0].Rot)\n\nukf = ukfm.UKF(state0=state0,\n               P0=P0,\n               f=model.f,\n               h=model.h,\n               Q=Q,\n               R=R,\n               phi=model.phi,\n               phi_inv=model.phi_inv,\n               alpha=alpha)\n\n# set variables for recording estimates along the full trajectory\nukf_states = [state0]\nukf_Ps = np.zeros((model.N, 3, 3))\nukf_Ps[0] = P0"
      ],
      "cell_type": "code",
      "execution_count": null,
      "outputs": [],
      "metadata": {
        "collapsed": false
      }
    },
    {
      "source": [
        "Filtering\n==============================================================================\nThe UKF proceeds as a standard Kalman filter with a simple for loop.\n\n"
      ],
      "cell_type": "markdown",
      "metadata": {}
    },
    {
      "source": [
        "for n in range(1, model.N):\n    # propagation\n    ukf.propagation(omegas[n-1], model.dt)\n    # update\n    ukf.update(ys[n])\n    # save estimates\n    ukf_states.append(ukf.state)\n    ukf_Ps[n] = ukf.P"
      ],
      "cell_type": "code",
      "execution_count": null,
      "outputs": [],
      "metadata": {
        "collapsed": false
      }
    },
    {
      "source": [
        "Results\n------------------------------------------------------------------------------\nWe plot the orientation as function of time along with the orientation\nerror.\n\n"
      ],
      "cell_type": "markdown",
      "metadata": {}
    },
    {
      "source": [
        "model.plot_results(ukf_states, ukf_Ps, states, omegas)"
      ],
      "cell_type": "code",
      "execution_count": null,
      "outputs": [],
      "metadata": {
        "collapsed": false
      }
    },
    {
      "source": [
        "We see the true trajectory starts by a small stationary step following\nby constantly turning around the gravity vector (only the yaw is\nincreasing). As yaw is not observable with an accelerometer only, it is\nexpected that yaw error would be stronger than roll or pitch errors.\n\nAs UKF estimates the covariance of the error, we have plotted the 95%\nconfident interval ($3\\sigma$). We expect the error keeps behind this\ninterval, and in this situation the filter covariance output matches\nespecially well the error.\n\nA cruel aspect of these curves is the absence of comparision. Is the filter\ngood ? It would be nice to compare it, e.g., to an extended Kalman filter.\n\n"
      ],
      "cell_type": "markdown",
      "metadata": {}
    },
    {
      "source": [
        "Conclusion\n==============================================================================\nWe have seen in this script how well works the UKF on parallelizable\nmanifolds for estimating orientation from an IMU.\n\nYou can now:\n\n- address the UKF for the same problem with different noise parameters.\n\n- add outliers in acceleration or magnetometer measurements.\n\n- benchmark the UKF with different function errors and compare it to the\n  extended Kalman filter in the Benchmarks section.\n\n"
      ],
      "cell_type": "markdown",
      "metadata": {}
    }
  ],
  "nbformat_minor": 0,
  "metadata": {
    "kernelspec": {
      "name": "python3",
      "display_name": "Python 3",
      "language": "python"
    },
    "language_info": {
      "mimetype": "text/x-python",
      "name": "python",
      "version": "3.5.2",
      "pygments_lexer": "ipython3",
      "nbconvert_exporter": "python",
      "file_extension": ".py",
      "codemirror_mode": {
        "name": "ipython",
        "version": 3
      }
    }
  }
}