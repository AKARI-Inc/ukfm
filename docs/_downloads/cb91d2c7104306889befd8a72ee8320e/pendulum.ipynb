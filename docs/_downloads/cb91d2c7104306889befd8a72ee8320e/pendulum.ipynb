{
  "metadata": {
    "language_info": {
      "mimetype": "text/x-python",
      "file_extension": ".py",
      "pygments_lexer": "ipython3",
      "name": "python",
      "codemirror_mode": {
        "name": "ipython",
        "version": 3
      },
      "version": "3.5.2",
      "nbconvert_exporter": "python"
    },
    "kernelspec": {
      "name": "python3",
      "language": "python",
      "display_name": "Python 3"
    }
  },
  "nbformat": 4,
  "nbformat_minor": 0,
  "cells": [
    {
      "metadata": {
        "collapsed": false
      },
      "outputs": [],
      "source": [
        "%matplotlib inline"
      ],
      "cell_type": "code",
      "execution_count": null
    },
    {
      "metadata": {},
      "source": [
        "\n********************************************************************************\nPendulum Example\n********************************************************************************\n\nThe set of all points in the Euclidean space $\\mathbb{R}^{3}$, that lie on\nthe surface of the unit ball about the origin belong to the two-sphere manifold,\n$S(2)$, which is a two-dimensional manifold. Many mechanical systems such\nas a spherical pendulum, double pendulum, quadrotor with a cable-suspended load,\nevolve on either $S(2)$ or products comprising of $S(2)$.\n\nIn this script, we estimate the state of a system living on the sphere but where\nobservations are standard vectors. You can have a text description of the \nspherical pendulum dynamics in :cite:`sjobergAn2019`, Section 7, and\n:cite:`kotaruVariation2019`.\n\n"
      ],
      "cell_type": "markdown"
    },
    {
      "metadata": {},
      "source": [
        "Import\n==============================================================================\n\n"
      ],
      "cell_type": "markdown"
    },
    {
      "metadata": {
        "collapsed": false
      },
      "outputs": [],
      "source": [
        "from scipy.linalg import block_diag\nimport ukfm\nimport numpy as np\nimport matplotlib\nukfm.utils.set_matplotlib_config()"
      ],
      "cell_type": "code",
      "execution_count": null
    },
    {
      "metadata": {},
      "source": [
        "Model and Simulation\n==============================================================================\nThis script uses the ``INERTIAL_NAVIGATION`` model class that requires  the\nsequence time and the model frequency to create an instance of the model.\n\n"
      ],
      "cell_type": "markdown"
    },
    {
      "metadata": {
        "collapsed": false
      },
      "outputs": [],
      "source": [
        "# sequence time (s)\nT = 20\n# IMU frequency (Hz)\nmodel_freq = 100\n# create the model\nmodel = ukfm.PENDULUM(T, model_freq)"
      ],
      "cell_type": "code",
      "execution_count": null
    },
    {
      "metadata": {},
      "source": [
        "The true trajectory is computed along with empty inputs (the model does not\nrequire input) after we define the noise standard deviation affecting the\ndynamic.\n\n"
      ],
      "cell_type": "markdown"
    },
    {
      "metadata": {
        "collapsed": false
      },
      "outputs": [],
      "source": [
        "# model standard-deviation noise (noise is isotropic)\nmodel_std = np.array([2/180*np.pi,  # orientation (rad/s)\n                    0.5]) # orientation velocity (rad/s^2)\n\n# simulate true trajectory and noised input\nstates, omegas = model.simu_f(model_std)"
      ],
      "cell_type": "code",
      "execution_count": null
    },
    {
      "metadata": {},
      "source": [
        "The state and the input contain the following variables:\n\n.. highlight:: python\n.. code-block:: python\n\n  states[n].Rot  # 3d orientation (matrix)\n  states[n].u    # 3d angular velocity\n  omegas[n]      # empty input\n\n"
      ],
      "cell_type": "markdown"
    },
    {
      "metadata": {},
      "source": [
        "We compute noisy measurements at low frequency based on the true state\nsequence.\n\n"
      ],
      "cell_type": "markdown"
    },
    {
      "metadata": {
        "collapsed": false
      },
      "outputs": [],
      "source": [
        "# observation noise standard deviation (m)\nobs_std = 0.1\n# simulate landmark measurements\nys = model.simu_h(states, obs_std)"
      ],
      "cell_type": "code",
      "execution_count": null
    },
    {
      "metadata": {},
      "source": [
        "Filter Design and Initialization\n------------------------------------------------------------------------------\nWe choose in this example to embed the state in $SO(3)$ with left\nmultiplication, such that:\n\n- the retraction $\\varphi(.,.)$ is the $SO(3)$ exponential map for\n  orientation where the state multiplies the uncertainty on the left.\n\n- the inverse retraction $\\varphi^{-1}(.,.)$ is the $SO(3)$\n  logarithm for orientation.\n\n"
      ],
      "cell_type": "markdown"
    },
    {
      "metadata": {
        "collapsed": false
      },
      "outputs": [],
      "source": [
        "# propagation noise matrix\nQ = block_diag(model_std[0]**2*np.eye(3), model_std[1]**2*np.eye(3))\n# measurement noise matrix\nR = obs_std**2*np.eye(2)\n# initial error matrix\nP0 = np.zeros((6, 6))  # The state is perfectly initialized\n# sigma point parameters\nalpha = np.array([1e-3, 1e-3, 1e-3])"
      ],
      "cell_type": "code",
      "execution_count": null
    },
    {
      "metadata": {},
      "source": [
        "We initialize the filter with the true state.\n\n"
      ],
      "cell_type": "markdown"
    },
    {
      "metadata": {
        "collapsed": false
      },
      "outputs": [],
      "source": [
        "state0 = model.STATE(\n    Rot=states[0].Rot,\n    u=states[0].u,\n)\n\nukf = ukfm.UKF(state0=state0,\n               P0=P0,\n               f=model.f,\n               h=model.h,\n               Q=Q,\n               R=R,\n               phi=model.phi,\n               phi_inv=model.phi_inv,\n               alpha=alpha)\n\n# set variables for recording estimates along the full trajectory\nukf_states = [state0]\nukf_Ps = np.zeros((model.N, 6, 6))\nukf_Ps[0] = P0"
      ],
      "cell_type": "code",
      "execution_count": null
    },
    {
      "metadata": {},
      "source": [
        "Filtering\n==============================================================================\nThe UKF proceeds as a standard Kalman filter with a simple for loop.\n\n"
      ],
      "cell_type": "markdown"
    },
    {
      "metadata": {
        "collapsed": false
      },
      "outputs": [],
      "source": [
        "for n in range(1, model.N):\n    # propagation\n    ukf.propagation(omegas[n-1], model.dt)\n    # update\n    ukf.update(ys[n])\n    # save estimates\n    ukf_states.append(ukf.state)\n    ukf_Ps[n] = ukf.P"
      ],
      "cell_type": "code",
      "execution_count": null
    },
    {
      "metadata": {},
      "source": [
        "Results\n------------------------------------------------------------------------------\nWe plot the orientation as function of time along with the orientation\nerror\nmodel.plot_results(ukf_states, ukf_Ps, states)\n\n"
      ],
      "cell_type": "markdown"
    },
    {
      "metadata": {},
      "source": [
        "We see the true trajectory starts by a small stationary step following\nby constantly turning around the gravity vector (only the yaw is\nincreasing). As yaw is not observable with an accelerometer only, it is\nexpected that yaw error would be stronger than roll or pitch errors.\n\nAs UKF estimates the covariance of the error, we have plotted the 95%\nconfident interval ($3\\sigma$). We expect the error keeps behind this\ninterval, and in this situation the filter covariance output matches\nespecially well the error.\n\nA cruel aspect of these curves is the absence of comparision. Is the filter\ngood ? It would be nice to compare it, e.g., to an extended Kalman filter.\n\n"
      ],
      "cell_type": "markdown"
    },
    {
      "metadata": {},
      "source": [
        "Conclusion\n==============================================================================\nWe have seen in this script how well works the UKF on parallelizable\nmanifolds for estimating orientation from an IMU.\n\nYou can now:\n\n- address the UKF for the same problem with different noise parameters.\n\n- add outliers in acceleration or magnetometer measurements.\n\n- benchmark the UKF with different function errors and compare it to the\n  extended Kalman filter in the Benchmarks section.\n\n"
      ],
      "cell_type": "markdown"
    }
  ]
}