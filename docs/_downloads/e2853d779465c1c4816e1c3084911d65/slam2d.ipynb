{
  "nbformat": 4,
  "metadata": {
    "language_info": {
      "nbconvert_exporter": "python",
      "codemirror_mode": {
        "name": "ipython",
        "version": 3
      },
      "version": "3.5.2",
      "pygments_lexer": "ipython3",
      "mimetype": "text/x-python",
      "name": "python",
      "file_extension": ".py"
    },
    "kernelspec": {
      "language": "python",
      "name": "python3",
      "display_name": "Python 3"
    }
  },
  "cells": [
    {
      "outputs": [],
      "execution_count": null,
      "metadata": {
        "collapsed": false
      },
      "cell_type": "code",
      "source": [
        "%matplotlib inline"
      ]
    },
    {
      "metadata": {},
      "cell_type": "markdown",
      "source": [
        "\n********************************************************************************\n2D Robot SLAM - Example\n********************************************************************************\n\nGoals of this script:\n\n- apply the UKF for performing 2D SLAM (Simultaneous Localization And Mapping).\n\n- discover a computationally alternative way for performing UKF insipred from\n  :cite:`HuangA2013`. This alternative leads to computational speed\n  improvement when only a part of the state is involved in a propagation or in\n  update step.\n\n- augment the state when a new landmark is observed in a UKF derivative-free\n  way.\n\n*We assume the reader is already familiar with the approach described in the\ntutorial.*\n\nThis script considers the 2D robot SLAM problem where the robot is equipped with\nwheel odometry and observes unknown landmark measurements. The robot state is\npropagated through the odometry model and landmark observations are used in the\nUKF measurement step. Landmarks are static and we assume no error coming from\ndata association. We reproduce the simulations that are described in\n:cite:`huangObservability2010` , :cite:`HuangA2013`.\n\n"
      ]
    },
    {
      "metadata": {},
      "cell_type": "markdown",
      "source": [
        "Import\n==============================================================================\n\n"
      ]
    },
    {
      "outputs": [],
      "execution_count": null,
      "metadata": {
        "collapsed": false
      },
      "cell_type": "code",
      "source": [
        "import ukfm\nfrom ukfm import SLAM2D as MODEL\nimport numpy as np\nimport matplotlib\nukfm.set_matplotlib_config()"
      ]
    },
    {
      "metadata": {},
      "cell_type": "markdown",
      "source": [
        "Model and Simulation\n==============================================================================\nThis script uses the ``SLAM2D`` model class that requires requires sequence\ntime and odometry frequency to create an instance of the model.\n\n"
      ]
    },
    {
      "outputs": [],
      "execution_count": null,
      "metadata": {
        "collapsed": false
      },
      "cell_type": "code",
      "source": [
        "# sequence time (s)\nT = 2500\n# odometry frequency (Hz)\nodo_freq = 1\n# create the model\nmodel = MODEL(T, odo_freq)"
      ]
    },
    {
      "metadata": {},
      "cell_type": "markdown",
      "source": [
        "The trajectory of the robot consists of turning at constant speed.\n\n"
      ]
    },
    {
      "outputs": [],
      "execution_count": null,
      "metadata": {
        "collapsed": false
      },
      "cell_type": "code",
      "source": [
        "# true speed of robot (m/s)\nv = 0.25\n# true angular velocity (rad/s)\ngyro = 1.5 / 180 * np.pi\n# odometry noise standard deviation\nodo_std = np.array([0.05*v/np.sqrt(2),     # speed (v/m)\n                    0.05*v*np.sqrt(2)*2])  # angular speed (rad/s)"
      ]
    },
    {
      "metadata": {},
      "cell_type": "markdown",
      "source": [
        "When simulating data, we generate a map. The map consists of landmarks\nconstantly spaced on a circle with slightly higher radius than the radius of\nthe robot trajectory.\n\n"
      ]
    },
    {
      "outputs": [],
      "execution_count": null,
      "metadata": {
        "collapsed": false
      },
      "cell_type": "code",
      "source": [
        "# simulate true trajectory and noisy input\nstates, omegas, ldks = model.simu_f(odo_std, v, gyro)\n\n# observation noise standard deviation (m)\nobs_std = 0.1\n\n# plot the map\nmodel.plot_traj(states, ldks)"
      ]
    },
    {
      "metadata": {},
      "cell_type": "markdown",
      "source": [
        "The state and the input contain the following variables:\n\n.. highlight:: python \n.. code-block:: python\n\n    states[n].Rot      # orientation (matrix) \n    states[n].p        # robot position\n    states[n].p_l      # landmark positions \n    omegas[n].gyro     # robot angular velocity \n    omegas[n].v        # robot speed\n\n\n"
      ]
    },
    {
      "metadata": {},
      "cell_type": "markdown",
      "source": [
        "Landmark positions is a 2D array where we get the k-th landmark as\n``states[n].p_l[k]``. The number of landmarks in the state starts from zero\nand increases when the robot observe a new landmark.\n\n"
      ]
    },
    {
      "metadata": {},
      "cell_type": "markdown",
      "source": [
        "We compute noisy landmark measurements based on the true state sequence.\n\n"
      ]
    },
    {
      "outputs": [],
      "execution_count": null,
      "metadata": {
        "collapsed": false
      },
      "cell_type": "code",
      "source": [
        "ys = model.simu_h(states, obs_std, ldks)"
      ]
    },
    {
      "metadata": {},
      "cell_type": "markdown",
      "source": [
        "A measurement contains the observations of all visible landmarks as:\n\n.. highlight:: python\n.. code-block:: python\n\n  y_n = ys[n]    # measurement at timestamp n\n  y_n_k = y_n[k] # k-th observed landmark at instant n, where y_n_k[2] is the \n                 # landmark index (-1 if the landmark is not observed)\n\n"
      ]
    },
    {
      "metadata": {},
      "cell_type": "markdown",
      "source": [
        "Filter Design and Initialization\n------------------------------------------------------------------------------\nWe choose to embed the robot state in $SO(2) \\times \\mathbb{R}^2$ and\neach landmark position in $\\mathbb{R}^2$, such that:\n\n- the retraction $\\varphi(.,.)$ is the $SO(2)$ exponential map for\n  orientation, i.e. and the standard vector addition for robot and landmark\n  positions.\n\n- the inverse retraction $\\varphi^{-1}(.,.)$ is the $SO(2)$\n  logarithm for orientation and the standard vector subtraction for robot and\n  landmark positions.\n\n"
      ]
    },
    {
      "outputs": [],
      "execution_count": null,
      "metadata": {
        "collapsed": false
      },
      "cell_type": "code",
      "source": [
        "# propagation noise matrix\nQ = np.diag(odo_std ** 2)\n# measurement noise matrix\nR = obs_std ** 2 * np.eye(2)\n# initial error matrix\nP0 = np.zeros((3, 3))  # The state is perfectly initialized without"
      ]
    },
    {
      "metadata": {},
      "cell_type": "markdown",
      "source": [
        "Regarding implementation, we use the Jacobian UKF (JUKF) that is adapted to \nthe problem, as it spare some time when only a part of the space is involved\nin a propagation or update step.\n\n**How it works ?** Consider the propagation of the covariance in an extended\nKalman filter as \n\n\\begin{align}\\mathbf{P}_{n+1} = \\mathbf{F} \\mathbf{P}_{n} \\mathbf{T}^T +\n  \\mathbf{G} \\mathbf{Q} \\mathbf{G}^T,\\end{align}\n\nwhere the robot state uncertainty is put in the first indices of the\ncovariance matrix $\\mathbf{P}_{n}$. As landmarks are statics, the\nJacobian take the forms\n\n\\begin{align}\\mathbf{F} = \\begin{bmatrix}  \\mathbf{F}^R & \\mathbf{0} \\\\\n  \\mathbf{0}  & \\mathbf{I}  \\end{bmatrix}, \\mathbf{G} = \\begin{bmatrix}  \n  \\mathbf{G}^R & \\mathbf{0} \\\\ \\mathbf{0}  & \\mathbf{0}  \\end{bmatrix}.\\end{align}\n\nThe JUKF allows to compute $\\mathbf{F}^R$ and $\\mathbf{G}^R$ by\nonly using the required sigma points. Here it corresponds to the sigma points\nof the robot state. This requires to set the reduced retraction ``red_phi``\nand inverse retraction ``red_phi_inv`` that compute the required  subpart of\nthe full retraction $\\varphi(.,.)$ and inverse retraction\n$\\varphi^{-1}(.,.)$, and to define corresponding indices ``red_idx`` in\n$\\mathbf{P}_n$.\n\nSimilarly for the observation of a landmark, e.g. the first landmark, the\nobservation matrix has the form\n\n\\begin{align}\\mathbf{H} = \\begin{bmatrix}  \\mathbf{H}^1 & \\mathbf{0} \\end{bmatrix}.\\end{align}\n\nThe JUKF computes $\\mathbf{H}^1$ by only using the required sigma points\nof the robot state and the observed landmark. This requires to set another\nfunction ``up_phi`` using during update to compute a subpart of the retraction\n$\\varphi(.,.)$, as corresponding indices ``up_idx`` in\n$\\mathbf{P}_n$.\n\n"
      ]
    },
    {
      "metadata": {},
      "cell_type": "markdown",
      "source": [
        "Finally, we require to define a new function $z(.,.)$ to augment the\nstate such that\n\n\\begin{align}\\boldsymbol{\\chi}_n^{\\mathrm{aug}} = z(\\boldsymbol{\\chi}_{n}, \\mathbf{y}_n),\\end{align}\n\nwhere $\\boldsymbol{\\chi}_n^{\\mathrm{aug}}$ is the augmented state and\nthe $\\mathbf{y}_n$ the measurement used to augment the state. Here this\nmeasurement is a landmark observation. To make the augmentation efficient we\nneed to compute sigma points for only the state involved in $z(.,.)$,\n``aug_phi`` is thus only a subpart of $\\varphi(.,.)$ and\n``aug_inv_phi`` is the inverse retraction of $\\varphi(.,.)^{-1}$\ncorresponding to the novel part of the state only.\n\n"
      ]
    },
    {
      "outputs": [],
      "execution_count": null,
      "metadata": {
        "collapsed": false
      },
      "cell_type": "code",
      "source": [
        "# sigma point parameters\nalpha = np.array([1e-3, 1e-3, 1e-3, 1e-3, 1e-3])\n\n# reduced weights during propagation\nred_idxs = np.array([0, 1, 2])  # indices corresponding to the robot state in P\n# weights during update\naug_idxs = np.array([0, 1, 2])  # indices corresponding to the robot state in P\n\nstate0 = model.STATE(\n    Rot=states[0].Rot,\n    p=states[0].p,\n    p_l=np.zeros((0, 2)))\n\nukf = ukfm.JUKF(\n    state0=state0,\n    P0=P0,\n    f=model.f,\n    h=model.h,\n    Q=Q,\n    phi=model.phi,\n    alpha=alpha,\n    red_phi=model.red_phi,\n    red_phi_inv=model.red_phi_inv,\n    red_idxs=red_idxs,\n    up_phi=model.up_phi,\n    up_idxs=np.arange(5),  # this variable changes during the sequence\n    aug_z=model.aug_z,\n    aug_phi=model.aug_phi,\n    aug_phi_inv=model.aug_phi_inv,\n    aug_idxs=aug_idxs,\n    aug_q=2\n)\n\n# set variables for recording estimates along the full trajectory\nukf_states = [states[0]]\nukf_Ps = [P0]\n\n# indices of already observed landmarks\nukf_lmk = np.array([])"
      ]
    },
    {
      "metadata": {},
      "cell_type": "markdown",
      "source": [
        "Filtering\n==============================================================================\nThe UKF proceeds as a standard Kalman filter with a simple for loop.\n\n"
      ]
    },
    {
      "outputs": [],
      "execution_count": null,
      "metadata": {
        "collapsed": false
      },
      "cell_type": "code",
      "source": [
        "for n in range(1, model.N):\n    # propagation\n    ukf.propagation(omegas[n-1], model.dt)\n\n    y_n = ys[n]\n    # observed landmarks\n    idxs = np.where(y_n[:, 2] >= 0)[0]\n    # update each landmark already in the filter\n    p_ls = ukf.state.p_l\n    for idx0 in idxs:\n        idx = np.where(ukf_lmk == y_n[idx0, 2])[0]\n        if idx.shape[0] == 0:\n            continue\n\n        # indices of the robot and observed landmark in P\n        up_idxs = np.hstack([0, 1, 2, 3+2*idx, 4+2*idx])\n        ukf.state.p_l = np.squeeze(p_ls[idx])\n        # compute observability matrices and residual\n        ukf.H_num(np.squeeze(y_n[idx0, :2]), up_idxs, R)\n    ukf.state.p_l = p_ls\n\n    # update only if some landmarks have been observed\n    if ukf.H.shape[0] > 0:\n        ukf.state_update()\n\n    # augment the state with new landmark\n    for idx0 in idxs:\n        idx = np.where(ukf_lmk == y_n[idx0, 2])[0]\n        if not idx.shape[0] == 0:\n            continue\n\n        # augment the landmark state\n        ukf_lmk = np.hstack([ukf_lmk, int(y_n[idx0, 2])])\n        # indices of the new landmark\n        idx = ukf_lmk.shape[0]-1\n\n        # new landmark position\n        p_l = np.expand_dims(ukf.state.p + ukf.state.Rot.dot(y_n[idx0, :2]), 0)\n        p_ls = np.vstack([ukf.state.p_l, p_l])\n        ukf.state.p_l = p_l\n\n        # get Jacobian and then covariance following [2]\n        R_n = obs_std ** 2 * np.eye(2)\n        ukf.aug(y_n[idx0, :2], aug_idxs, R)\n        ukf.state.p_l = p_ls\n\n    # save estimates\n    ukf_states.append(ukf.state)\n    ukf_Ps.append(ukf.P)"
      ]
    },
    {
      "metadata": {},
      "cell_type": "markdown",
      "source": [
        "Results\n------------------------------------------------------------------------------\n\n"
      ]
    },
    {
      "outputs": [],
      "execution_count": null,
      "metadata": {
        "collapsed": false
      },
      "cell_type": "code",
      "source": [
        "model.plot_results(ukf_states, ukf_Ps, states, ldks)"
      ]
    },
    {
      "metadata": {},
      "cell_type": "markdown",
      "source": [
        "As UKF estimates the covariance of the error, we have plotted the 95 %\nconfident interval ($3\\sigma$). We expect the error keeps behind this\ninterval, and note note the confidence interval decreases along time.\n\n"
      ]
    },
    {
      "metadata": {},
      "cell_type": "markdown",
      "source": [
        "Conclusion\n==============================================================================\nThis script shows how the UKF on parallelizable manifolds can be used for 2D\nSLAM. By leveraging numerical Jacobian inference, one obtains a\ncomputationally more efficient filter. The UKF works apparently well for this\nexample, but consistency issues happear at the end of the trajectory.\n\nYou can now:\n\n- consider non-linear range and bearing measurement.\n\n- benchmark the UKF with different function error and compare it to the\n  extended Kalman filter and invariant extended Kalman filter of\n  :cite:`barrauInvariant2017`.\n\n"
      ]
    }
  ],
  "nbformat_minor": 0
}